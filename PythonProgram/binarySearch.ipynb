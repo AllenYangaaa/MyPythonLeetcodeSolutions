{
 "cells": [
  {
   "cell_type": "code",
   "execution_count": 5,
   "metadata": {},
   "outputs": [
    {
     "name": "stdout",
     "output_type": "stream",
     "text": [
      "7\n",
      "1\n"
     ]
    }
   ],
   "source": [
    "# 给你一个有序的数组arr，target, 插入数组， 求target的插入的下标。即返回第一个大于或等于target的index\n",
    "class Solution(object):\n",
    "    def binarySearch(self,  arr, target):\n",
    "        if target>arr[-1]:\n",
    "            return len(arr)\n",
    "        l, r = 0, len(arr)-1\n",
    "        while l<r:\n",
    "            mid = (l+r)//2\n",
    "            #左中位数，右中位数\n",
    "            #先写简单的逻辑\n",
    "            if arr[mid]<target:\n",
    "                l = mid +1\n",
    "            else:\n",
    "                r = mid\n",
    "        #返回的就是target插入的下标\n",
    "        return l\n",
    "a = Solution()\n",
    "print (a.binarySearch([1,2,3,4,5,6,7], 8)) # 7\n",
    "print (a.binarySearch([1,11,111,1111], 5)) # 1"
   ]
  },
  {
   "cell_type": "code",
   "execution_count": null,
   "metadata": {},
   "outputs": [],
   "source": []
  }
 ],
 "metadata": {
  "kernelspec": {
   "display_name": "Python 3",
   "language": "python",
   "name": "python3"
  },
  "language_info": {
   "codemirror_mode": {
    "name": "ipython",
    "version": 3
   },
   "file_extension": ".py",
   "mimetype": "text/x-python",
   "name": "python",
   "nbconvert_exporter": "python",
   "pygments_lexer": "ipython3",
   "version": "3.7.4"
  }
 },
 "nbformat": 4,
 "nbformat_minor": 4
}
